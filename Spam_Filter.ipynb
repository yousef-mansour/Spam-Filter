{
  "nbformat": 4,
  "nbformat_minor": 0,
  "metadata": {
    "colab": {
      "provenance": []
    },
    "kernelspec": {
      "name": "python3",
      "display_name": "Python 3"
    },
    "language_info": {
      "name": "python"
    }
  },
  "cells": [
    {
      "cell_type": "code",
      "source": [
        "def peek(x):\n",
        "  print('object type:', type(x))\n",
        "  print('number of properties & methods:', len(dir(x)))\n",
        "from inspect import signature"
      ],
      "metadata": {
        "id": "MlXqkFHIdOGT"
      },
      "execution_count": null,
      "outputs": []
    },
    {
      "cell_type": "code",
      "execution_count": null,
      "metadata": {
        "id": "_k62KJtCfagW"
      },
      "outputs": [],
      "source": [
        "import os\n",
        "import tarfile\n",
        "import urllib.request\n",
        "\n",
        "root_download = \"http://spamassassin.apache.org/old/publiccorpus/\"\n",
        "HAM_URL = root_download + \"20030228_easy_ham.tar.bz2\"\n",
        "SPAM_URL = root_download + \"20030228_spam.tar.bz2\"\n",
        "SPAM_PATH = os.path.join(\"datasets\", \"spam\")\n",
        "\n",
        "def fetch_spam_data(ham_url=HAM_URL, spam_url=SPAM_URL, spam_path=SPAM_PATH):\n",
        "    if not os.path.isdir(spam_path):\n",
        "        os.makedirs(spam_path)\n",
        "    for filename, url in ((\"ham.tar.bz2\", ham_url), (\"spam.tar.bz2\", spam_url)):\n",
        "        path = os.path.join(spam_path, filename)\n",
        "        if not os.path.isfile(path):\n",
        "            urllib.request.urlretrieve(url, path)\n",
        "        tar_bz2_file = tarfile.open(path)\n",
        "        tar_bz2_file.extractall(path=spam_path)\n",
        "        tar_bz2_file.close()"
      ]
    },
    {
      "cell_type": "code",
      "source": [
        "fetch_spam_data()"
      ],
      "metadata": {
        "id": "Nctz31o4aBWe"
      },
      "execution_count": null,
      "outputs": []
    },
    {
      "cell_type": "code",
      "source": [
        "easy_ham_dir = os.path.join(SPAM_PATH, 'easy_ham')\n",
        "spam_dir = os.path.join(SPAM_PATH, 'spam')"
      ],
      "metadata": {
        "id": "2oK16QCbanLU"
      },
      "execution_count": null,
      "outputs": []
    },
    {
      "cell_type": "code",
      "source": [
        "import numpy as np"
      ],
      "metadata": {
        "id": "FVYRsLNcYGGo"
      },
      "execution_count": null,
      "outputs": []
    },
    {
      "cell_type": "code",
      "source": [
        "#deleting the last element - 'cmds'.\n",
        "ham_names = np.array(sorted(os.listdir(easy_ham_dir)))[:-1]\n",
        "spam_names = np.array(sorted(os.listdir(spam_dir)))[:-1]"
      ],
      "metadata": {
        "id": "lF4YncIldzwO"
      },
      "execution_count": null,
      "outputs": []
    },
    {
      "cell_type": "code",
      "source": [
        "import email\n",
        "import email.policy"
      ],
      "metadata": {
        "id": "YfU5X3D-ePtK"
      },
      "execution_count": null,
      "outputs": []
    },
    {
      "cell_type": "code",
      "source": [
        "def get_email(category, filename):\n",
        "  directory = easy_ham_dir if category == 'ham' else spam_dir\n",
        "  with open(os.path.join(directory, filename), 'rb') as f:\n",
        "    return email.parser.BytesParser(policy = email.policy.default).parse(f)"
      ],
      "metadata": {
        "id": "aC16Ebi8gX4I"
      },
      "execution_count": null,
      "outputs": []
    },
    {
      "cell_type": "code",
      "source": [
        "hams = [get_email('ham', name) for name in ham_names]\n",
        "spams = [get_email('spam', name) for name in spam_names] "
      ],
      "metadata": {
        "id": "7tEUDQEthWdr"
      },
      "execution_count": null,
      "outputs": []
    },
    {
      "cell_type": "code",
      "source": [
        "from collections import Counter"
      ],
      "metadata": {
        "id": "Q4v-hAO-nEbG"
      },
      "execution_count": null,
      "outputs": []
    },
    {
      "cell_type": "code",
      "source": [
        "TYPES = [email.get_content_type() for email in (hams)]\n",
        "c = Counter(TYPES)\n",
        "c.items()"
      ],
      "metadata": {
        "colab": {
          "base_uri": "https://localhost:8080/"
        },
        "id": "6_uOykMXuF5_",
        "outputId": "bee8f411-892a-4875-8fd0-a188f027d41c"
      },
      "execution_count": null,
      "outputs": [
        {
          "output_type": "execute_result",
          "data": {
            "text/plain": [
              "dict_items([('text/plain', 2408), ('multipart/signed', 68), ('multipart/alternative', 9), ('multipart/mixed', 10), ('multipart/related', 3), ('multipart/report', 2)])"
            ]
          },
          "metadata": {},
          "execution_count": 153
        }
      ]
    },
    {
      "cell_type": "code",
      "source": [
        "TYPES = [email.get_content_type() for email in (spams)]\n",
        "c = Counter(TYPES)\n",
        "c.items()"
      ],
      "metadata": {
        "colab": {
          "base_uri": "https://localhost:8080/"
        },
        "id": "1nuSQVUfvyC1",
        "outputId": "ae49801c-9c50-4b7f-971a-e31e4b9704ce"
      },
      "execution_count": null,
      "outputs": [
        {
          "output_type": "execute_result",
          "data": {
            "text/plain": [
              "dict_items([('text/html', 183), ('text/plain', 218), ('multipart/mixed', 43), ('multipart/alternative', 47), ('multipart/related', 9)])"
            ]
          },
          "metadata": {},
          "execution_count": 154
        }
      ]
    },
    {
      "cell_type": "code",
      "source": [
        "spams[138]['Subject']"
      ],
      "metadata": {
        "colab": {
          "base_uri": "https://localhost:8080/",
          "height": 36
        },
        "id": "TE0PfFgYv5_i",
        "outputId": "7c71f8ed-1870-4f27-c0f8-dd324b343f03"
      },
      "execution_count": null,
      "outputs": [
        {
          "output_type": "execute_result",
          "data": {
            "text/plain": [
              "'Find Peace, Harmony, Tranquility, And Happiness Right Now!'"
            ],
            "application/vnd.google.colaboratory.intrinsic+json": {
              "type": "string"
            }
          },
          "metadata": {},
          "execution_count": 167
        }
      ]
    },
    {
      "cell_type": "code",
      "source": [
        "X = np.array(hams + spams)\n",
        "y = np.array([1] * len(hams) + [0] * len(spams))"
      ],
      "metadata": {
        "colab": {
          "base_uri": "https://localhost:8080/"
        },
        "id": "1OKube3j8Tvc",
        "outputId": "8a895f8f-8dad-4a5f-9780-1bb6d2f964f8"
      },
      "execution_count": null,
      "outputs": [
        {
          "output_type": "stream",
          "name": "stderr",
          "text": [
            "<ipython-input-189-2fface10d89b>:1: VisibleDeprecationWarning: Creating an ndarray from ragged nested sequences (which is a list-or-tuple of lists-or-tuples-or ndarrays with different lengths or shapes) is deprecated. If you meant to do this, you must specify 'dtype=object' when creating the ndarray.\n",
            "  X = np.array(hams + spams)\n"
          ]
        }
      ]
    },
    {
      "cell_type": "code",
      "source": [
        "from sklearn.model_selection import train_test_split"
      ],
      "metadata": {
        "id": "1iARsGCO-UwB"
      },
      "execution_count": null,
      "outputs": []
    },
    {
      "cell_type": "code",
      "source": [
        "X_train, y_train, X_test, y_test = train_test_split(X, y, test_size = 0.8)"
      ],
      "metadata": {
        "id": "zyPiR57--gMz"
      },
      "execution_count": null,
      "outputs": []
    },
    {
      "cell_type": "markdown",
      "source": [
        "Preprocessing"
      ],
      "metadata": {
        "id": "scgnyWYK-13S"
      }
    },
    {
      "cell_type": "code",
      "source": [],
      "metadata": {
        "id": "It_AsjVzAL4K"
      },
      "execution_count": null,
      "outputs": []
    }
  ]
}
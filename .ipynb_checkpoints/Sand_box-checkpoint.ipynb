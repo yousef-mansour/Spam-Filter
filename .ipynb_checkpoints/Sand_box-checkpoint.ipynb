{
 "cells": [
  {
   "cell_type": "markdown",
   "id": "b575602f",
   "metadata": {},
   "source": [
    "# Objective Transfomer"
   ]
  },
  {
   "cell_type": "code",
   "execution_count": 1,
   "id": "b0924205",
   "metadata": {},
   "outputs": [],
   "source": [
    "from sklearn.base import BaseEstimator, TransformerMixin\n",
    "import numpy as np\n",
    "import urlextract\n",
    "import re\n",
    "import nltk\n",
    "\n",
    "stemmer = nltk.PorterStemmer()\n",
    "url_extractor = urlextract.URLExtract()\n",
    "class EmailToWordCounterTransformer(BaseEstimator, TransformerMixin):\n",
    "    def __init__(self, strip_headers=True, lower_case=True, remove_punctuation=True,\n",
    "                 replace_urls=True, replace_numbers=True, stemming=True):\n",
    "        self.strip_headers = strip_headers\n",
    "        self.lower_case = lower_case\n",
    "        self.remove_punctuation = remove_punctuation\n",
    "        self.replace_urls = replace_urls\n",
    "        self.replace_numbers = replace_numbers\n",
    "        self.stemming = stemming\n",
    "    def fit(self, X, y=None):\n",
    "        return self\n",
    "    def transform(self, X, y=None):\n",
    "        X_transformed = []\n",
    "        for email in X:\n",
    "            text = email_to_text(email) or \"\"\n",
    "            if self.lower_case:\n",
    "                text = text.lower()\n",
    "            if self.replace_urls and url_extractor is not None:\n",
    "                urls = list(set(url_extractor.find_urls(text)))\n",
    "                urls.sort(key=lambda url: len(url), reverse=True)\n",
    "                for url in urls:\n",
    "                    text = text.replace(url, \" URL \")\n",
    "            if self.replace_numbers:\n",
    "                text = re.sub(r'\\d+(?:\\.\\d*)?(?:[eE][+-]?\\d+)?', 'NUMBER', text)\n",
    "            if self.remove_punctuation:\n",
    "                text = re.sub(r'\\W+', ' ', text, flags=re.M)\n",
    "            word_counts = Counter(text.split())\n",
    "            if self.stemming and stemmer is not None:\n",
    "                stemmed_word_counts = Counter()\n",
    "                for word, count in word_counts.items():\n",
    "                    stemmed_word = stemmer.stem(word)\n",
    "                    stemmed_word_counts[stemmed_word] += count\n",
    "                word_counts = stemmed_word_counts\n",
    "            X_transformed.append(word_counts)\n",
    "        return np.array(X_transformed)"
   ]
  },
  {
   "cell_type": "markdown",
   "id": "d893850e",
   "metadata": {},
   "source": [
    "# email to text function"
   ]
  },
  {
   "cell_type": "code",
   "execution_count": 2,
   "id": "2dc689de",
   "metadata": {},
   "outputs": [],
   "source": [
    "from bs4 import BeautifulSoup\n",
    "def html_to_plain_text(html):\n",
    "    soup = BeautifulSoup(html, 'lxml')\n",
    "    for a_tag in soup.find_all('a'):\n",
    "        a_tag.replace_with(\" HYPERLINK \")\n",
    "    return soup.get_text(separator = \" \", strip = True)\n",
    "\n",
    "def email_to_text(email):\n",
    "    html = None\n",
    "    for part in email.walk():\n",
    "        ctype = part.get_content_type()\n",
    "        if not ctype in (\"text/plain\", \"text/html\"):\n",
    "            continue\n",
    "        try:\n",
    "            content = part.get_content()\n",
    "        except: # in case of encoding issues\n",
    "            content = str(part.get_payload())\n",
    "        if ctype == \"text/plain\":\n",
    "            return content\n",
    "        else:\n",
    "            html = content\n",
    "    if html:\n",
    "        return html_to_plain_text(html)"
   ]
  },
  {
   "cell_type": "markdown",
   "id": "2d18e0fb",
   "metadata": {},
   "source": [
    "# Importing an email as a file"
   ]
  },
  {
   "cell_type": "code",
   "execution_count": 3,
   "id": "65cdc910",
   "metadata": {},
   "outputs": [],
   "source": [
    "import os"
   ]
  },
  {
   "cell_type": "code",
   "execution_count": 4,
   "id": "27dfe458",
   "metadata": {},
   "outputs": [],
   "source": [
    "email_path = os.path.join('datasets', 'spam', 'easy_ham', '00001.7c53336b37003a9286aba55d2945844c')"
   ]
  },
  {
   "cell_type": "code",
   "execution_count": 5,
   "id": "c65ccc56",
   "metadata": {},
   "outputs": [],
   "source": [
    "with open(email_path) as email_file:\n",
    "    email_opened = email_file.read()"
   ]
  },
  {
   "cell_type": "markdown",
   "id": "8e6ffb68",
   "metadata": {},
   "source": [
    "# Importing an email using email parser"
   ]
  },
  {
   "cell_type": "code",
   "execution_count": 7,
   "id": "736d6c21",
   "metadata": {},
   "outputs": [],
   "source": [
    "import email\n",
    "import email.policy"
   ]
  },
  {
   "cell_type": "code",
   "execution_count": 8,
   "id": "200443c9",
   "metadata": {},
   "outputs": [],
   "source": [
    "with open(email_path, 'rb') as email_file:\n",
    "    email_parsed = email.parser.BytesParser(policy = email.policy.default).parse(email_file)"
   ]
  },
  {
   "cell_type": "markdown",
   "id": "e58aea96",
   "metadata": {},
   "source": [
    "# Convert from email to word counter"
   ]
  },
  {
   "cell_type": "code",
   "execution_count": 33,
   "id": "7cee4e31",
   "metadata": {},
   "outputs": [],
   "source": [
    "from collections import Counter\n",
    "import re\n",
    "import urlextract"
   ]
  },
  {
   "cell_type": "code",
   "execution_count": null,
   "id": "f4d7e849",
   "metadata": {
    "scrolled": true
   },
   "outputs": [],
   "source": [
    "email_text = email_to_text(email_parsed)\n",
    "url_extractor = urlextract.URLExtract()\n",
    "urls = url_extractor.find_urls(email_text)\n",
    "email_addresses = re.sub(r'\\b[A-Za-z0-9._%+-]+@[A-Za-z0-9.-]+\\.[A-Z|a-z]{2,}\\b', \"email_address\", email_text)\n",
    "for url in urls:\n",
    "    email_text = re.sub(re.escape(url), 'url', email_text)\n",
    "for email_address in email_addresses:\n",
    "    email_text = re.sub(re.escape(email_address), 'email_address', email_text)\n",
    "email_text = re.sub(r'\\d+', '', email_text)\n",
    "email_text = re.sub(r'[^\\w\\s]', '', email_text)"
   ]
  },
  {
   "cell_type": "code",
   "execution_count": null,
   "id": "daeffe7b",
   "metadata": {},
   "outputs": [],
   "source": [
    "print(email_text)"
   ]
  },
  {
   "cell_type": "code",
   "execution_count": 47,
   "id": "b33a71e3",
   "metadata": {},
   "outputs": [],
   "source": [
    "cnt = Counter()\n",
    "for word in email_text.split():\n",
    "    cnt[stemmer.stem(word.lower())] += 1"
   ]
  },
  {
   "cell_type": "code",
   "execution_count": 48,
   "id": "4cdb833d",
   "metadata": {},
   "outputs": [
    {
     "data": {
      "text/plain": [
       "Counter({'date': 1,\n",
       "         'wed': 1,\n",
       "         'aug': 1,\n",
       "         'from': 4,\n",
       "         'chri': 1,\n",
       "         'garrigu': 1,\n",
       "         'cwgdatedfaddeepeddycom': 1,\n",
       "         'messageid': 1,\n",
       "         'tmdadeepeddyvirciocom': 1,\n",
       "         'i': 4,\n",
       "         'cant': 1,\n",
       "         'reproduc': 1,\n",
       "         'thi': 3,\n",
       "         'error': 2,\n",
       "         'for': 1,\n",
       "         'me': 1,\n",
       "         'it': 1,\n",
       "         'is': 4,\n",
       "         'veri': 1,\n",
       "         'repeat': 1,\n",
       "         'like': 1,\n",
       "         'everi': 1,\n",
       "         'time': 1,\n",
       "         'without': 1,\n",
       "         'fail': 1,\n",
       "         'the': 15,\n",
       "         'debug': 1,\n",
       "         'log': 1,\n",
       "         'of': 5,\n",
       "         'pick': 9,\n",
       "         'happen': 1,\n",
       "         'pick_it': 1,\n",
       "         'exec': 2,\n",
       "         'inbox': 3,\n",
       "         'list': 5,\n",
       "         'lbrace': 6,\n",
       "         'subject': 3,\n",
       "         'ftp': 3,\n",
       "         'rbrace': 6,\n",
       "         'sequenc': 4,\n",
       "         'mercuri': 3,\n",
       "         'ftoc_pickmsg': 1,\n",
       "         'hit': 4,\n",
       "         'mark': 1,\n",
       "         'tkerror': 1,\n",
       "         'syntax': 1,\n",
       "         'in': 1,\n",
       "         'express': 1,\n",
       "         'int': 1,\n",
       "         'note': 1,\n",
       "         'if': 1,\n",
       "         'run': 1,\n",
       "         'command': 3,\n",
       "         'by': 1,\n",
       "         'hand': 1,\n",
       "         'delta': 3,\n",
       "         'that': 3,\n",
       "         'where': 1,\n",
       "         'come': 2,\n",
       "         'obvious': 1,\n",
       "         'version': 3,\n",
       "         'nmh': 2,\n",
       "         'im': 1,\n",
       "         'use': 2,\n",
       "         'compil': 1,\n",
       "         'on': 2,\n",
       "         'url': 2,\n",
       "         'at': 1,\n",
       "         'sun': 1,\n",
       "         'mar': 1,\n",
       "         'ict': 1,\n",
       "         'and': 2,\n",
       "         'relev': 1,\n",
       "         'part': 1,\n",
       "         'my': 1,\n",
       "         'mh_profil': 2,\n",
       "         'mhparam': 1,\n",
       "         'seq': 1,\n",
       "         'sel': 1,\n",
       "         'sinc': 1,\n",
       "         'work': 1,\n",
       "         'actual': 1,\n",
       "         'both': 1,\n",
       "         'them': 1,\n",
       "         'one': 2,\n",
       "         'explicit': 1,\n",
       "         'line': 1,\n",
       "         'search': 1,\n",
       "         'popup': 1,\n",
       "         'do': 1,\n",
       "         'get': 1,\n",
       "         'creat': 1,\n",
       "         'kre': 1,\n",
       "         'ps': 1,\n",
       "         'still': 1,\n",
       "         'code': 1,\n",
       "         'form': 1,\n",
       "         'a': 1,\n",
       "         'day': 1,\n",
       "         'ago': 1,\n",
       "         'havent': 1,\n",
       "         'been': 1,\n",
       "         'abl': 1,\n",
       "         'to': 1,\n",
       "         'reach': 1,\n",
       "         'cv': 1,\n",
       "         'repositori': 1,\n",
       "         'today': 1,\n",
       "         'local': 1,\n",
       "         'rout': 1,\n",
       "         'issu': 1,\n",
       "         'think': 1,\n",
       "         '_______________________________________________': 1,\n",
       "         'exmhwork': 1,\n",
       "         'mail': 1,\n",
       "         'exmhworkersredhatcom': 1})"
      ]
     },
     "execution_count": 48,
     "metadata": {},
     "output_type": "execute_result"
    }
   ],
   "source": [
    "cnt"
   ]
  },
  {
   "cell_type": "code",
   "execution_count": 49,
   "id": "44b9285e",
   "metadata": {
    "scrolled": true
   },
   "outputs": [],
   "source": [
    "array = [email_parsed]\n",
    "email_to_cnt = EmailToWordCounterTransformer()\n",
    "cnt_objective = email_to_cnt.fit_transform(array)"
   ]
  },
  {
   "cell_type": "code",
   "execution_count": 50,
   "id": "68156197",
   "metadata": {},
   "outputs": [
    {
     "data": {
      "text/plain": [
       "116"
      ]
     },
     "execution_count": 50,
     "metadata": {},
     "output_type": "execute_result"
    }
   ],
   "source": [
    "len(cnt)"
   ]
  },
  {
   "cell_type": "code",
   "execution_count": 29,
   "id": "05d2b783",
   "metadata": {},
   "outputs": [
    {
     "data": {
      "text/plain": [
       "125"
      ]
     },
     "execution_count": 29,
     "metadata": {},
     "output_type": "execute_result"
    }
   ],
   "source": [
    "len(cnt_objective[0])"
   ]
  },
  {
   "cell_type": "code",
   "execution_count": 30,
   "id": "5c6045ea",
   "metadata": {},
   "outputs": [
    {
     "data": {
      "text/plain": [
       "Counter({'date': 2,\n",
       "         'wed': 1,\n",
       "         'number': 39,\n",
       "         'aug': 1,\n",
       "         'from': 4,\n",
       "         'chri': 1,\n",
       "         'garrigu': 1,\n",
       "         'cwg': 1,\n",
       "         'numberfanumberd': 1,\n",
       "         'deepeddi': 2,\n",
       "         'com': 3,\n",
       "         'messag': 1,\n",
       "         'id': 1,\n",
       "         'tmda': 1,\n",
       "         'vircio': 1,\n",
       "         'i': 5,\n",
       "         'can': 1,\n",
       "         't': 2,\n",
       "         'reproduc': 1,\n",
       "         'thi': 3,\n",
       "         'error': 2,\n",
       "         'for': 1,\n",
       "         'me': 1,\n",
       "         'it': 1,\n",
       "         'is': 4,\n",
       "         'veri': 1,\n",
       "         'repeat': 1,\n",
       "         'like': 1,\n",
       "         'everi': 1,\n",
       "         'time': 1,\n",
       "         'without': 1,\n",
       "         'fail': 1,\n",
       "         'the': 15,\n",
       "         'debug': 1,\n",
       "         'log': 1,\n",
       "         'of': 5,\n",
       "         'pick': 9,\n",
       "         'happen': 1,\n",
       "         'pick_it': 1,\n",
       "         'exec': 2,\n",
       "         'inbox': 3,\n",
       "         'list': 5,\n",
       "         'lbrace': 6,\n",
       "         'subject': 3,\n",
       "         'ftp': 3,\n",
       "         'rbrace': 6,\n",
       "         'sequenc': 4,\n",
       "         'mercuri': 3,\n",
       "         'ftoc_pickmsg': 1,\n",
       "         'hit': 4,\n",
       "         'mark': 1,\n",
       "         'tkerror': 1,\n",
       "         'syntax': 1,\n",
       "         'in': 1,\n",
       "         'express': 1,\n",
       "         'int': 1,\n",
       "         'note': 1,\n",
       "         'if': 1,\n",
       "         'run': 1,\n",
       "         'command': 3,\n",
       "         'by': 1,\n",
       "         'hand': 1,\n",
       "         'delta': 3,\n",
       "         'that': 3,\n",
       "         's': 2,\n",
       "         'where': 1,\n",
       "         'come': 2,\n",
       "         'obvious': 1,\n",
       "         'version': 3,\n",
       "         'nmh': 2,\n",
       "         'm': 1,\n",
       "         'use': 2,\n",
       "         'compil': 1,\n",
       "         'on': 2,\n",
       "         'url': 2,\n",
       "         'at': 1,\n",
       "         'sun': 1,\n",
       "         'mar': 1,\n",
       "         'ict': 1,\n",
       "         'and': 2,\n",
       "         'relev': 1,\n",
       "         'part': 1,\n",
       "         'my': 1,\n",
       "         'mh_profil': 2,\n",
       "         'mhparam': 1,\n",
       "         'seq': 1,\n",
       "         'sel': 1,\n",
       "         'sinc': 1,\n",
       "         'work': 1,\n",
       "         'actual': 1,\n",
       "         'both': 1,\n",
       "         'them': 1,\n",
       "         'one': 2,\n",
       "         'explicit': 1,\n",
       "         'line': 1,\n",
       "         'search': 1,\n",
       "         'popup': 1,\n",
       "         'do': 1,\n",
       "         'get': 1,\n",
       "         'creat': 1,\n",
       "         'kre': 1,\n",
       "         'ps': 1,\n",
       "         'still': 1,\n",
       "         'code': 1,\n",
       "         'form': 1,\n",
       "         'a': 1,\n",
       "         'day': 1,\n",
       "         'ago': 1,\n",
       "         'haven': 1,\n",
       "         'been': 1,\n",
       "         'abl': 1,\n",
       "         'to': 1,\n",
       "         'reach': 1,\n",
       "         'cv': 1,\n",
       "         'repositori': 1,\n",
       "         'today': 1,\n",
       "         'local': 1,\n",
       "         'rout': 1,\n",
       "         'issu': 1,\n",
       "         'think': 1,\n",
       "         '_______________________________________________': 1,\n",
       "         'exmh': 2,\n",
       "         'worker': 2,\n",
       "         'mail': 1,\n",
       "         'redhat': 1})"
      ]
     },
     "execution_count": 30,
     "metadata": {},
     "output_type": "execute_result"
    }
   ],
   "source": [
    "cnt_objective[0]"
   ]
  },
  {
   "cell_type": "code",
   "execution_count": null,
   "id": "023e1bb0",
   "metadata": {},
   "outputs": [],
   "source": []
  }
 ],
 "metadata": {
  "kernelspec": {
   "display_name": "Python 3 (ipykernel)",
   "language": "python",
   "name": "python3"
  },
  "language_info": {
   "codemirror_mode": {
    "name": "ipython",
    "version": 3
   },
   "file_extension": ".py",
   "mimetype": "text/x-python",
   "name": "python",
   "nbconvert_exporter": "python",
   "pygments_lexer": "ipython3",
   "version": "3.9.16"
  }
 },
 "nbformat": 4,
 "nbformat_minor": 5
}
